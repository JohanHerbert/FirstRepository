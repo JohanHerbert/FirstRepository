{
 "cells": [
  {
   "cell_type": "markdown",
   "id": "6b64b343",
   "metadata": {},
   "source": [
    "## Python notebook \n",
    "\n",
    "- jotyther notebook\n",
    "- Google colab\n",
    "- Kaggle \n",
    "\n",
    "## Markdown \n",
    "regular text\n",
    "*Italic text*\n",
    "**Bold text**\n",
    "bullet points\n",
    "- First \n",
    "- Second\n",
    "\n",
    "Latex\n",
    "$$ \\hat{c}_{n} \\frac{1}{n} \\sum_{i=1}^{n}C_{i}\n",
    "\n",
    "## Import modules packages"
   ]
  },
  {
   "cell_type": "code",
   "execution_count": 4,
   "id": "de76ac58",
   "metadata": {},
   "outputs": [
    {
     "ename": "ImportError",
     "evalue": "\n\nIMPORTANT: PLEASE READ THIS FOR ADVICE ON HOW TO SOLVE THIS ISSUE!\n\nImporting the numpy C-extensions failed. This error can happen for\nmany reasons, often due to issues with your setup or how NumPy was\ninstalled.\n\nWe have compiled some common reasons and troubleshooting tips at:\n\n    https://numpy.org/devdocs/user/troubleshooting-importerror.html\n\nPlease note and check the following:\n\n  * The Python version is: Python3.9 from \"/Users/johanherbert/opt/anaconda3/bin/python\"\n  * The NumPy version is: \"1.23.5\"\n\nand make sure that they are the versions you expect.\nPlease carefully study the documentation linked above for further help.\n\nOriginal error was: dlopen(/Users/johanherbert/opt/anaconda3/lib/python3.9/site-packages/numpy/core/_multiarray_umath.cpython-39-darwin.so, 0x0002): Library not loaded: '@rpath/libopenblas.0.dylib'\n  Referenced from: '/Users/johanherbert/opt/anaconda3/lib/python3.9/site-packages/numpy/core/_multiarray_umath.cpython-39-darwin.so'\n  Reason: tried: '/Users/johanherbert/opt/anaconda3/lib/python3.9/site-packages/numpy/core/../../../../libopenblas.0.dylib' (no such file), '/Users/johanherbert/opt/anaconda3/lib/python3.9/site-packages/numpy/core/../../../../libopenblas.0.dylib' (no such file), '/Users/johanherbert/opt/anaconda3/bin/../lib/libopenblas.0.dylib' (no such file), '/Users/johanherbert/opt/anaconda3/bin/../lib/libopenblas.0.dylib' (no such file), '/usr/local/lib/libopenblas.0.dylib' (no such file), '/usr/lib/libopenblas.0.dylib' (no such file)\n",
     "output_type": "error",
     "traceback": [
      "\u001b[0;31m---------------------------------------------------------------------------\u001b[0m",
      "\u001b[0;31mImportError\u001b[0m                               Traceback (most recent call last)",
      "File \u001b[0;32m~/opt/anaconda3/lib/python3.9/site-packages/numpy/core/__init__.py:23\u001b[0m\n\u001b[1;32m     22\u001b[0m \u001b[38;5;28;01mtry\u001b[39;00m:\n\u001b[0;32m---> 23\u001b[0m     \u001b[38;5;28;01mfrom\u001b[39;00m \u001b[38;5;21;01m.\u001b[39;00m \u001b[38;5;28;01mimport\u001b[39;00m multiarray\n\u001b[1;32m     24\u001b[0m \u001b[38;5;28;01mexcept\u001b[39;00m \u001b[38;5;167;01mImportError\u001b[39;00m \u001b[38;5;28;01mas\u001b[39;00m exc:\n",
      "File \u001b[0;32m~/opt/anaconda3/lib/python3.9/site-packages/numpy/core/multiarray.py:10\u001b[0m\n\u001b[1;32m      9\u001b[0m \u001b[38;5;28;01mimport\u001b[39;00m \u001b[38;5;21;01mfunctools\u001b[39;00m\n\u001b[0;32m---> 10\u001b[0m \u001b[38;5;28;01mfrom\u001b[39;00m \u001b[38;5;21;01m.\u001b[39;00m \u001b[38;5;28;01mimport\u001b[39;00m overrides\n\u001b[1;32m     11\u001b[0m \u001b[38;5;28;01mfrom\u001b[39;00m \u001b[38;5;21;01m.\u001b[39;00m \u001b[38;5;28;01mimport\u001b[39;00m _multiarray_umath\n",
      "File \u001b[0;32m~/opt/anaconda3/lib/python3.9/site-packages/numpy/core/overrides.py:6\u001b[0m\n\u001b[1;32m      4\u001b[0m \u001b[38;5;28;01mimport\u001b[39;00m \u001b[38;5;21;01mos\u001b[39;00m\n\u001b[0;32m----> 6\u001b[0m \u001b[38;5;28;01mfrom\u001b[39;00m \u001b[38;5;21;01mnumpy\u001b[39;00m\u001b[38;5;21;01m.\u001b[39;00m\u001b[38;5;21;01mcore\u001b[39;00m\u001b[38;5;21;01m.\u001b[39;00m\u001b[38;5;21;01m_multiarray_umath\u001b[39;00m \u001b[38;5;28;01mimport\u001b[39;00m (\n\u001b[1;32m      7\u001b[0m     add_docstring, implement_array_function, _get_implementing_args)\n\u001b[1;32m      8\u001b[0m \u001b[38;5;28;01mfrom\u001b[39;00m \u001b[38;5;21;01mnumpy\u001b[39;00m\u001b[38;5;21;01m.\u001b[39;00m\u001b[38;5;21;01mcompat\u001b[39;00m\u001b[38;5;21;01m.\u001b[39;00m\u001b[38;5;21;01m_inspect\u001b[39;00m \u001b[38;5;28;01mimport\u001b[39;00m getargspec\n",
      "\u001b[0;31mImportError\u001b[0m: dlopen(/Users/johanherbert/opt/anaconda3/lib/python3.9/site-packages/numpy/core/_multiarray_umath.cpython-39-darwin.so, 0x0002): Library not loaded: '@rpath/libopenblas.0.dylib'\n  Referenced from: '/Users/johanherbert/opt/anaconda3/lib/python3.9/site-packages/numpy/core/_multiarray_umath.cpython-39-darwin.so'\n  Reason: tried: '/Users/johanherbert/opt/anaconda3/lib/python3.9/site-packages/numpy/core/../../../../libopenblas.0.dylib' (no such file), '/Users/johanherbert/opt/anaconda3/lib/python3.9/site-packages/numpy/core/../../../../libopenblas.0.dylib' (no such file), '/Users/johanherbert/opt/anaconda3/bin/../lib/libopenblas.0.dylib' (no such file), '/Users/johanherbert/opt/anaconda3/bin/../lib/libopenblas.0.dylib' (no such file), '/usr/local/lib/libopenblas.0.dylib' (no such file), '/usr/lib/libopenblas.0.dylib' (no such file)",
      "\nDuring handling of the above exception, another exception occurred:\n",
      "\u001b[0;31mImportError\u001b[0m                               Traceback (most recent call last)",
      "Cell \u001b[0;32mIn[4], line 1\u001b[0m\n\u001b[0;32m----> 1\u001b[0m \u001b[38;5;28;01mimport\u001b[39;00m \u001b[38;5;21;01mnumpy\u001b[39;00m \u001b[38;5;28;01mas\u001b[39;00m \u001b[38;5;21;01mnp\u001b[39;00m\n\u001b[1;32m      2\u001b[0m \u001b[38;5;28;01mimport\u001b[39;00m \u001b[38;5;21;01mpandas\u001b[39;00m \u001b[38;5;28;01mas\u001b[39;00m \u001b[38;5;21;01mpd\u001b[39;00m\n\u001b[1;32m      3\u001b[0m \u001b[38;5;28;01mimport\u001b[39;00m \u001b[38;5;21;01mmatplotlib\u001b[39;00m\u001b[38;5;21;01m.\u001b[39;00m\u001b[38;5;21;01mpyplot\u001b[39;00m \u001b[38;5;28;01mas\u001b[39;00m \u001b[38;5;21;01mplt\u001b[39;00m\n",
      "File \u001b[0;32m~/opt/anaconda3/lib/python3.9/site-packages/numpy/__init__.py:140\u001b[0m\n\u001b[1;32m    137\u001b[0m \u001b[38;5;66;03m# Allow distributors to run custom init code\u001b[39;00m\n\u001b[1;32m    138\u001b[0m \u001b[38;5;28;01mfrom\u001b[39;00m \u001b[38;5;21;01m.\u001b[39;00m \u001b[38;5;28;01mimport\u001b[39;00m _distributor_init\n\u001b[0;32m--> 140\u001b[0m \u001b[38;5;28;01mfrom\u001b[39;00m \u001b[38;5;21;01m.\u001b[39;00m \u001b[38;5;28;01mimport\u001b[39;00m core\n\u001b[1;32m    141\u001b[0m \u001b[38;5;28;01mfrom\u001b[39;00m \u001b[38;5;21;01m.\u001b[39;00m\u001b[38;5;21;01mcore\u001b[39;00m \u001b[38;5;28;01mimport\u001b[39;00m \u001b[38;5;241m*\u001b[39m\n\u001b[1;32m    142\u001b[0m \u001b[38;5;28;01mfrom\u001b[39;00m \u001b[38;5;21;01m.\u001b[39;00m \u001b[38;5;28;01mimport\u001b[39;00m compat\n",
      "File \u001b[0;32m~/opt/anaconda3/lib/python3.9/site-packages/numpy/core/__init__.py:49\u001b[0m\n\u001b[1;32m     25\u001b[0m     \u001b[38;5;28;01mimport\u001b[39;00m \u001b[38;5;21;01msys\u001b[39;00m\n\u001b[1;32m     26\u001b[0m     msg \u001b[38;5;241m=\u001b[39m \u001b[38;5;124m\"\"\"\u001b[39m\n\u001b[1;32m     27\u001b[0m \n\u001b[1;32m     28\u001b[0m \u001b[38;5;124mIMPORTANT: PLEASE READ THIS FOR ADVICE ON HOW TO SOLVE THIS ISSUE!\u001b[39m\n\u001b[0;32m   (...)\u001b[0m\n\u001b[1;32m     47\u001b[0m \u001b[38;5;124m\"\"\"\u001b[39m \u001b[38;5;241m%\u001b[39m (sys\u001b[38;5;241m.\u001b[39mversion_info[\u001b[38;5;241m0\u001b[39m], sys\u001b[38;5;241m.\u001b[39mversion_info[\u001b[38;5;241m1\u001b[39m], sys\u001b[38;5;241m.\u001b[39mexecutable,\n\u001b[1;32m     48\u001b[0m         __version__, exc)\n\u001b[0;32m---> 49\u001b[0m     \u001b[38;5;28;01mraise\u001b[39;00m \u001b[38;5;167;01mImportError\u001b[39;00m(msg)\n\u001b[1;32m     50\u001b[0m \u001b[38;5;28;01mfinally\u001b[39;00m:\n\u001b[1;32m     51\u001b[0m     \u001b[38;5;28;01mfor\u001b[39;00m envkey \u001b[38;5;129;01min\u001b[39;00m env_added:\n",
      "\u001b[0;31mImportError\u001b[0m: \n\nIMPORTANT: PLEASE READ THIS FOR ADVICE ON HOW TO SOLVE THIS ISSUE!\n\nImporting the numpy C-extensions failed. This error can happen for\nmany reasons, often due to issues with your setup or how NumPy was\ninstalled.\n\nWe have compiled some common reasons and troubleshooting tips at:\n\n    https://numpy.org/devdocs/user/troubleshooting-importerror.html\n\nPlease note and check the following:\n\n  * The Python version is: Python3.9 from \"/Users/johanherbert/opt/anaconda3/bin/python\"\n  * The NumPy version is: \"1.23.5\"\n\nand make sure that they are the versions you expect.\nPlease carefully study the documentation linked above for further help.\n\nOriginal error was: dlopen(/Users/johanherbert/opt/anaconda3/lib/python3.9/site-packages/numpy/core/_multiarray_umath.cpython-39-darwin.so, 0x0002): Library not loaded: '@rpath/libopenblas.0.dylib'\n  Referenced from: '/Users/johanherbert/opt/anaconda3/lib/python3.9/site-packages/numpy/core/_multiarray_umath.cpython-39-darwin.so'\n  Reason: tried: '/Users/johanherbert/opt/anaconda3/lib/python3.9/site-packages/numpy/core/../../../../libopenblas.0.dylib' (no such file), '/Users/johanherbert/opt/anaconda3/lib/python3.9/site-packages/numpy/core/../../../../libopenblas.0.dylib' (no such file), '/Users/johanherbert/opt/anaconda3/bin/../lib/libopenblas.0.dylib' (no such file), '/Users/johanherbert/opt/anaconda3/bin/../lib/libopenblas.0.dylib' (no such file), '/usr/local/lib/libopenblas.0.dylib' (no such file), '/usr/lib/libopenblas.0.dylib' (no such file)\n"
     ]
    }
   ],
   "source": [
    "import numpy as np\n",
    "import pandas as pd\n",
    "import matplotlib.pyplot as plt \n",
    "%matplotlib inline\n",
    "\n",
    "from scipy.stats import norm, lognorm # gives us the normal and log normal pdf,cdf and inverse cdf (ppf,point percent function)\n",
    "from scipy.stats.mstats import gmean #geomeetric mean "
   ]
  },
  {
   "cell_type": "code",
   "execution_count": null,
   "id": "ec66f417",
   "metadata": {},
   "outputs": [],
   "source": [
    "x = np.array([1,2,3])\n",
    "print(x)\n",
    "\n",
    "type(x)\n",
    "\n",
    "x = np.arange(1,6)\n",
    "print(x)\n",
    "\n",
    "\n",
    "x = np.arange(1,6,0.5)\n",
    "print(x)\n",
    "\n",
    "x = np.linspace(1,6,11)\n",
    "print(x)\n",
    "\n",
    "#x.shape\n",
    "\n",
    "#zero vectors\n",
    "B = np.zeros((2,5))\n",
    "print(B)\n",
    "\n",
    "# one vector\n",
    "C = np.ones((2,5))\n",
    "print(C)\n",
    "\n",
    "#identity matrix\n",
    "I = np.eye(3)\n",
    "print(I)\n",
    "\n",
    "A = np.array([1,2,3],[4,5,6])\n",
    "A.shape\n",
    "\n",
    "\n"
   ]
  },
  {
   "cell_type": "markdown",
   "id": "858524b2",
   "metadata": {},
   "source": [
    "## Accessing elements of arrays\n",
    "\n"
   ]
  },
  {
   "cell_type": "code",
   "execution_count": null,
   "id": "2985209a",
   "metadata": {},
   "outputs": [],
   "source": [
    "#first element of x\n",
    "x[0]"
   ]
  },
  {
   "cell_type": "code",
   "execution_count": null,
   "id": "2743ecab",
   "metadata": {},
   "outputs": [],
   "source": [
    "#second element of x\n",
    "x[1]"
   ]
  },
  {
   "cell_type": "code",
   "execution_count": null,
   "id": "7d44b7e3",
   "metadata": {},
   "outputs": [],
   "source": [
    "#last element\n",
    "x[-1]"
   ]
  },
  {
   "cell_type": "code",
   "execution_count": null,
   "id": "b5d92dac",
   "metadata": {},
   "outputs": [],
   "source": [
    "#First three elements of x\n",
    "print(x[:3])"
   ]
  },
  {
   "cell_type": "code",
   "execution_count": null,
   "id": "d92c4ccb",
   "metadata": {},
   "outputs": [],
   "source": [
    "# A single element of A\n",
    "A[1,1]"
   ]
  },
  {
   "cell_type": "code",
   "execution_count": null,
   "id": "9dafe2be",
   "metadata": {},
   "outputs": [],
   "source": [
    "#first row\n",
    "print(A[0,:])"
   ]
  },
  {
   "cell_type": "code",
   "execution_count": null,
   "id": "a52e29fe",
   "metadata": {},
   "outputs": [],
   "source": [
    "# First Column \n",
    "print(A[:,0])"
   ]
  },
  {
   "cell_type": "code",
   "execution_count": null,
   "id": "aae6ec91",
   "metadata": {},
   "outputs": [],
   "source": [
    "#going from row to column vector\n",
    "v = A[:,0].reshape(2.1)\n",
    "v.shape"
   ]
  },
  {
   "cell_type": "markdown",
   "id": "ec8040dd",
   "metadata": {},
   "source": [
    "## Standard array operations and vectorization"
   ]
  },
  {
   "cell_type": "code",
   "execution_count": null,
   "id": "d2e22b06",
   "metadata": {},
   "outputs": [],
   "source": [
    "x = np.array([1,2,3])\n",
    "y = np.array([3,2,1])"
   ]
  },
  {
   "cell_type": "code",
   "execution_count": null,
   "id": "1f5f9c86",
   "metadata": {},
   "outputs": [],
   "source": [
    "# Elementwise multiplication\n",
    "print(x*y)  #elementwise multiplication"
   ]
  },
  {
   "cell_type": "code",
   "execution_count": null,
   "id": "01665bbd",
   "metadata": {},
   "outputs": [],
   "source": [
    "#elementwise division\n",
    "print(x/y)"
   ]
  },
  {
   "cell_type": "code",
   "execution_count": null,
   "id": "1f29b057",
   "metadata": {},
   "outputs": [],
   "source": [
    "# Square of elements \n",
    "print(x**2)"
   ]
  },
  {
   "cell_type": "code",
   "execution_count": null,
   "id": "44f4ec9b",
   "metadata": {},
   "outputs": [],
   "source": [
    "#Transpose of A\n",
    "print(A.T)"
   ]
  },
  {
   "cell_type": "code",
   "execution_count": null,
   "id": "83f13643",
   "metadata": {},
   "outputs": [],
   "source": [
    "# Matrix vector multiplication \n",
    "print(A @ x) #older syntax np.dot(A,x)\n",
    "print(x @ A.T)"
   ]
  },
  {
   "cell_type": "code",
   "execution_count": null,
   "id": "69b08a94",
   "metadata": {},
   "outputs": [],
   "source": [
    "d = np.diag(I)\n",
    "print(d)"
   ]
  },
  {
   "cell_type": "code",
   "execution_count": null,
   "id": "27a183e6",
   "metadata": {},
   "outputs": [],
   "source": [
    "# Go back to a square diagonal matrix from vector\n",
    "I2 = np.diag(d) \n",
    "print(I2)"
   ]
  },
  {
   "cell_type": "markdown",
   "id": "4d2052e8",
   "metadata": {},
   "source": [
    "## Broadcasting and vectorization \n"
   ]
  },
  {
   "cell_type": "code",
   "execution_count": null,
   "id": "ec211bb6",
   "metadata": {},
   "outputs": [],
   "source": [
    "#broadcasting a constant\n",
    "print(x-1) "
   ]
  },
  {
   "cell_type": "code",
   "execution_count": null,
   "id": "76a66c47",
   "metadata": {},
   "outputs": [],
   "source": [
    "print(np.exp(x))"
   ]
  },
  {
   "cell_type": "markdown",
   "id": "abccbc38",
   "metadata": {},
   "source": [
    "## Useful functions"
   ]
  },
  {
   "cell_type": "code",
   "execution_count": null,
   "id": "c8574d7f",
   "metadata": {},
   "outputs": [],
   "source": [
    "#Maximum and minimum element of an array\n",
    "print(np.min(x))\n",
    "print(np.max(x))\n",
    "print(np.max(A))"
   ]
  },
  {
   "cell_type": "code",
   "execution_count": null,
   "id": "9182053a",
   "metadata": {},
   "outputs": [],
   "source": [
    "# Elementwise maximum and minimum values comparing two arrays\n",
    "m = np.maximum(x,y)\n",
    "print(m)"
   ]
  },
  {
   "cell_type": "code",
   "execution_count": null,
   "id": "f01c6f25",
   "metadata": {},
   "outputs": [],
   "source": [
    "# When comparing an array and a constant\n",
    "print(np.maximum(x,2))"
   ]
  },
  {
   "cell_type": "code",
   "execution_count": null,
   "id": "fcc0fc27",
   "metadata": {},
   "outputs": [],
   "source": [
    "#Sum of elements \n",
    "print(np.sum(x)) "
   ]
  },
  {
   "cell_type": "code",
   "execution_count": null,
   "id": "22686e07",
   "metadata": {},
   "outputs": [],
   "source": [
    "# Sum applied to a matrix\n",
    "s = np.sum(A) #sum of all elements \n",
    "c = np.sum(A,axis = 0) #sum of columns \n",
    "r = np.sum(A, axis = 1) # sum of rows\n",
    "print(s,c,r)"
   ]
  },
  {
   "cell_type": "code",
   "execution_count": null,
   "id": "59d33831",
   "metadata": {},
   "outputs": [],
   "source": [
    "#Mean of elements\n",
    "mx = np.mean(x) #mean of all elements in x\n",
    "mc = np.mean(A, axis  = 0) # column mean \n",
    "mr = np.mean(A, axis = 1) #row means\n",
    "print(mx,mc,mr)"
   ]
  },
  {
   "cell_type": "code",
   "execution_count": null,
   "id": "6691bcc2",
   "metadata": {},
   "outputs": [],
   "source": [
    "#Standard deviation \n",
    "std_x  = np.std(x)\n",
    "print(std_x)"
   ]
  },
  {
   "cell_type": "code",
   "execution_count": null,
   "id": "a7b71293",
   "metadata": {},
   "outputs": [],
   "source": [
    "#Geometric mean \n",
    "print(gmean(x))"
   ]
  },
  {
   "cell_type": "markdown",
   "id": "26157220",
   "metadata": {},
   "source": [
    "## Random number generation "
   ]
  },
  {
   "cell_type": "code",
   "execution_count": null,
   "id": "b47be61b",
   "metadata": {},
   "outputs": [],
   "source": [
    "# Uniform random numbers\n",
    "U = np.random.random((1000,1))\n",
    "print(U[:10])\n",
    "plt.hist(U,bins = 20);"
   ]
  },
  {
   "cell_type": "code",
   "execution_count": null,
   "id": "453704f4",
   "metadata": {},
   "outputs": [],
   "source": [
    "# standard normal numbers\n",
    "Z = np.random.standard_normal((10000,1))\n",
    "print(Z[:10])\n",
    "plt.hist(4,bins = 50)"
   ]
  },
  {
   "cell_type": "code",
   "execution_count": null,
   "id": "93f8dd96",
   "metadata": {},
   "outputs": [],
   "source": []
  },
  {
   "cell_type": "code",
   "execution_count": null,
   "id": "1b3ba916",
   "metadata": {},
   "outputs": [],
   "source": []
  },
  {
   "cell_type": "code",
   "execution_count": null,
   "id": "c3640e2a",
   "metadata": {},
   "outputs": [],
   "source": []
  },
  {
   "cell_type": "code",
   "execution_count": null,
   "id": "4a5d78a8",
   "metadata": {},
   "outputs": [],
   "source": []
  },
  {
   "cell_type": "code",
   "execution_count": null,
   "id": "af3a2587",
   "metadata": {},
   "outputs": [],
   "source": []
  }
 ],
 "metadata": {
  "kernelspec": {
   "display_name": "Python 3 (ipykernel)",
   "language": "python",
   "name": "python3"
  },
  "language_info": {
   "codemirror_mode": {
    "name": "ipython",
    "version": 3
   },
   "file_extension": ".py",
   "mimetype": "text/x-python",
   "name": "python",
   "nbconvert_exporter": "python",
   "pygments_lexer": "ipython3",
   "version": "3.9.16"
  }
 },
 "nbformat": 4,
 "nbformat_minor": 5
}
